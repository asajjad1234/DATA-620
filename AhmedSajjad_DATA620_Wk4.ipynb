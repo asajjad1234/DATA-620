{
 "cells": [
  {
   "cell_type": "markdown",
   "metadata": {},
   "source": [
    "# Week 04 - Assignment\n",
    "#### Ahmed Sajjad"
   ]
  },
  {
   "cell_type": "markdown",
   "metadata": {},
   "source": [
    "### Question\n",
    "Centrality measures can be used to predict (positive or negative) outcomes for a node.\n",
    "\n",
    "Your task in this week’s assignment is \n",
    "\n",
    "1) to identify an interesting set of network data that is available on the web (either through web scraping or web APIs) that could be used for analyzing and comparing centrality measures across nodes.  <br>\n",
    "2) As an additional constraint, there should be at least one categorical variable available for each node (such as “Male” or “Female”; “Republican”, “Democrat,” or “Undecided”, etc.)\n",
    "\n",
    "In addition to identifying your data source, you should create \n",
    "\n",
    "1) a high level plan that describes <br>\n",
    "2) how you would load the data for analysis, and <br>\n",
    "3) describe a hypothetical outcome that could be predicted <br>\n",
    "4) from comparing degree centrality across categorical groups."
   ]
  },
  {
   "cell_type": "markdown",
   "metadata": {},
   "source": [
    "### Solution"
   ]
  },
  {
   "cell_type": "markdown",
   "metadata": {},
   "source": [
    "#### Dataset:  Bitcoin OTC trust weighted signed network\n",
    "\n",
    "This is who-trusts-whom network of people who trade using Bitcoin on a platform called Bitcoin OTC. Since Bitcoin users are anonymous, there is a need to maintain a record of users' reputation to prevent transactions with fraudulent and risky users. Members of Bitcoin OTC rate other members in a scale of -10 (total distrust) to +10 (total trust) in steps of 1. This is the first explicit weighted signed directed network available for research. <br>\n",
    "https://snap.stanford.edu/data/soc-sign-bitcoinotc.html"
   ]
  },
  {
   "cell_type": "markdown",
   "metadata": {},
   "source": [
    "#### Dataset Description:\n",
    "For the purpose of this project, we will analyze the network, centrality and other characteristics. <br>\n",
    "Nodes: 5,881 <br>\n",
    "Edges:  35,592 <br> \n",
    "Edge Weight Range: -10 to +10 <br>\n",
    "Categorical Variables: Rating is our categorical variable which is numeric and range from -10 to 10.<br> \n",
    "                       We will split the Positive values as one Category and Negative values as another."
   ]
  },
  {
   "cell_type": "markdown",
   "metadata": {},
   "source": [
    "#### Language/Libraries Used\n",
    "1) Python <br>\n",
    "2) Packages: Networkx, matplotlib, pandas, numpy"
   ]
  },
  {
   "cell_type": "markdown",
   "metadata": {},
   "source": [
    "#### Loading: \n",
    "The dataset is in csv format. We will load the dataset using python and analyze it. \n",
    "There are 4 columns in the dataset:\n",
    "\n",
    "1) SOURCE- The user who is doing the rating <br>\n",
    "2) TARGET- The user who is being rated <br>\n",
    "3) RATING- The rating given to the user <br>\n",
    "4) TIME- What time the rating actually happened <br>\n"
   ]
  },
  {
   "cell_type": "markdown",
   "metadata": {},
   "source": [
    "#### Exploratory Data Analysis:\n",
    "\n",
    "We will calculate and analyze the Degree Centrality, Closeness Centrality and Betweenness Centrality of users using the NetworkX package and functions.\n",
    "\n",
    "From the documentation, we can understand the edges are classified as positive edges(Trust, Like, Support etc) and negative edges(Dislike, Oppose, Distrust etc.)\n",
    "\n",
    "So we can presume that the TARGET user with lots of positive edges in terms of trust and other parameters establishment will have many connection and centrality."
   ]
  },
  {
   "cell_type": "markdown",
   "metadata": {},
   "source": [
    "#### Centrality Measures\n",
    "A centrality measure is a fundamental graph analytic that provides insight into the relative importance of a particular node in a graph. Once we plot the network, we can find different centrality measures:\n",
    "\n",
    "##### Degree Centrality\n",
    "The degree centrality of a node in the graph is a measure of the number of incident edges upon it. \n",
    "\n",
    "##### Closeness Centrality\n",
    "The closeness centrality of a node is a measure of how highly connected (“close”) it is to all other nodes in the graph. \n",
    "\n",
    "##### Betweenness Centrality\n",
    "The betweenness centrality of a node is a measure of how often it connects any other nodes in the graph in the sense of being in between other nodes.\n"
   ]
  },
  {
   "cell_type": "markdown",
   "metadata": {
    "collapsed": true
   },
   "source": [
    "#### Analysis Results / Outcomes:\n",
    "\n",
    "1.\tHow does the Bitcoin OTC trust network differs based on ratings?\n",
    "2.\tWhich centrality rating has more density?\n",
    "3.\tWhat does centrality explain for bitcoin OTC network?"
   ]
  },
  {
   "cell_type": "markdown",
   "metadata": {},
   "source": [
    "#### References\n",
    "\n",
    "https://snap.stanford.edu/data/soc-sign-bitcoinotc.html"
   ]
  }
 ],
 "metadata": {
  "kernelspec": {
   "display_name": "Python 3",
   "language": "python",
   "name": "python3"
  },
  "language_info": {
   "codemirror_mode": {
    "name": "ipython",
    "version": 3
   },
   "file_extension": ".py",
   "mimetype": "text/x-python",
   "name": "python",
   "nbconvert_exporter": "python",
   "pygments_lexer": "ipython3",
   "version": "3.6.5"
  },
  "varInspector": {
   "cols": {
    "lenName": 16,
    "lenType": 16,
    "lenVar": 40
   },
   "kernels_config": {
    "python": {
     "delete_cmd_postfix": "",
     "delete_cmd_prefix": "del ",
     "library": "var_list.py",
     "varRefreshCmd": "print(var_dic_list())"
    },
    "r": {
     "delete_cmd_postfix": ") ",
     "delete_cmd_prefix": "rm(",
     "library": "var_list.r",
     "varRefreshCmd": "cat(var_dic_list()) "
    }
   },
   "types_to_exclude": [
    "module",
    "function",
    "builtin_function_or_method",
    "instance",
    "_Feature"
   ],
   "window_display": false
  }
 },
 "nbformat": 4,
 "nbformat_minor": 2
}
